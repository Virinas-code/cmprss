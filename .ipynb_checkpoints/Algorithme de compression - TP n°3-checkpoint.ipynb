{
 "cells": [
  {
   "cell_type": "code",
   "execution_count": 1,
   "metadata": {},
   "outputs": [
    {
     "data": {
      "text/plain": [
       "'\\nCompression du tome 1 des misérables en chiffres\\n'"
      ]
     },
     "execution_count": 1,
     "metadata": {},
     "output_type": "execute_result"
    }
   ],
   "source": [
    "# -*- coding: utf-8 -*-\n",
    "\"\"\"\n",
    "Compression du tome 1 des misérables en chiffres\n",
    "\"\"\""
   ]
  },
  {
   "cell_type": "code",
   "execution_count": 2,
   "metadata": {},
   "outputs": [],
   "source": [
    "nombre_compressions = 0"
   ]
  },
  {
   "cell_type": "markdown",
   "metadata": {},
   "source": [
    "<center><h1>Algorithme de compression</h1></center>\n",
    " <center><h2>TP n°3</h2></center>\n",
    "  <hr style=\"border-color:#000000\" />\n",
    "<h3>Sommaire</h3>\n",
    "<ul>\n",
    "    <li>1. Présentation</li>\n",
    "    <li>2. La fonction complete</li>\n",
    "    <li>3. La fonction chaîne absente</li>\n",
    "    <li>4. La fonction chaîne longue</li>\n",
    "    <li>5. La fonction compress</li>\n",
    "</ul>\n",
    "  <h3>1. Présentation</h3>\n",
    "   <p>Cet algorithme est un algorithme de compression assez simple codé en Python.</p>\n",
    "   <h4>1.1. Principe</h4>\n",
    "    <p>Le programme suit l'algorithme suivant :\n",
    "    <ul>\n",
    "     <li>Convertir le texte en nombres</li>\n",
    "     <li>Trouver la suite de nombres la plus petite possile qui n'apparait pas dans le texte</li>\n",
    "     <li>Trouver la suite de nombres la plus grande possible qui apparait le plus souvent dans le texte</li>\n",
    "     <li>Remplacer la suite longue par la suite absente</li>\n",
    "    </ul>\n",
    "    Il est exécuté plusieurs fois.</p>\n",
    "<h4>1.2. Informations</h4>\n",
    " <p>La <em>signature</em> est une documentation complète de la fonction avec ses paramètres.</p>\n",
    "  <h3>2. La fonction complete</h3>"
   ]
  },
  {
   "cell_type": "markdown",
   "metadata": {},
   "source": [
    "<p>C'est une fonction assez utile, la fonction <var>complete</var>. Elle transforme un nombre (comme <code>42</code>) en une chaîne de x caractères (en remplissant avec des zéros).</p>\n",
    "<h4>2.1. Code</h4>"
   ]
  },
  {
   "cell_type": "code",
   "execution_count": 3,
   "metadata": {},
   "outputs": [],
   "source": [
    "def complete(complete_param_nombre, complete_param_longueur):\n",
    "    \"\"\"\n",
    "    Complete le nombre complete_param_nombre avec des zéros pour qu'il ait une longueur égale à complete_param_longueur\n",
    "    :type complete_param_nombre: int\n",
    "    :param complete_param_nombre: Le nombre à compléter\n",
    "    :param complete_param_longueur: La longueur à atteindre\n",
    "    :return: le nombre complété avec des zéros sous la forme d'une chaine de caractères\n",
    "    \"\"\"\n",
    "    complete_chaine = str(complete_param_nombre)\n",
    "    complete_l1 = len(complete_chaine)\n",
    "    for a in range(complete_param_longueur-complete_l1):\n",
    "        complete_chaine = \"0\"+complete_chaine\n",
    "    return complete_chaine"
   ]
  },
  {
   "cell_type": "markdown",
   "metadata": {},
   "source": [
    "<h4>2.2. Exemple</h4>"
   ]
  },
  {
   "cell_type": "code",
   "execution_count": 4,
   "metadata": {},
   "outputs": [
    {
     "data": {
      "text/plain": [
       "'0000000000000000000000000000000000000000000123'"
      ]
     },
     "execution_count": 4,
     "metadata": {},
     "output_type": "execute_result"
    }
   ],
   "source": [
    "complete(123,46)"
   ]
  },
  {
   "cell_type": "code",
   "execution_count": 5,
   "metadata": {},
   "outputs": [
    {
     "data": {
      "text/plain": [
       "'0012'"
      ]
     },
     "execution_count": 5,
     "metadata": {},
     "output_type": "execute_result"
    }
   ],
   "source": [
    "complete(12,4)"
   ]
  },
  {
   "cell_type": "markdown",
   "metadata": {},
   "source": [
    "<h4>2.3. Principe</h4>\n",
    "<p>La fonction complete complète avec des zéros un nombre donné en paramètre pour retourner une chaine de longueur définie.</p>\n",
    "<h4>2.3. Signature</h4>\n",
    "<pre>\n",
    "complete(complete_param_nombre: int, complete_param_longueur)\n",
    "    Complete le nombre complete_param_nombre avec des zéros pour qu'il ait une longueur égale à complete_param_longueur\n",
    "    \n",
    "    complete_param_nombre  : Le nombre à compléter\n",
    "    complete_param_longueur: La longueur à atteindre\n",
    "    return                 : le nombre complété avec des zéros sous la forme d'une chaine de caractères\n",
    "</pre>\n",
    "<hr style=\"border-top: 1px solid #e0dfdf;\" />\n",
    "<h3>3. Chaîne absente</h3>\n",
    "<p>Passons à la fonction <var>chaine_absente</var>. Elle renvoie une chiffre ou une suite de chiffres absente de la suite de chiffres passé en paramètre et de longueur minimale. Elle renvoie aussi si elle à trouvé ou pas.</p>\n",
    "<h4>3.1. Code</h4>"
   ]
  },
  {
   "cell_type": "code",
   "execution_count": 6,
   "metadata": {},
   "outputs": [],
   "source": [
    "def chaine_absent(absent_param_contenuctxt):\n",
    "    \"\"\"\n",
    "    Renvoie une chaine qui n'apparait pas dans absent_param_contenuctxt et de longueur la plus faible possible\n",
    "    :param absent_param_contenuctxt: Le texte dans lequel chercher la chaine qui n'apparait pas\n",
    "    :return: La chaine qui n'apparait pas\n",
    "    \"\"\"\n",
    "    absent_trouve = False\n",
    "    absent_l = 0\n",
    "    absent_chainetest = \"\"\n",
    "    while not absent_trouve:\n",
    "        absent_l += 1\n",
    "        if absent_l == 9:\n",
    "            break\n",
    "        absent_nombretest = 0\n",
    "        while (not absent_trouve) and (absent_nombretest < 10**absent_l):\n",
    "            absent_chainetest = complete(absent_nombretest, absent_l)\n",
    "            absent_n = absent_param_contenuctxt.count(absent_chainetest)\n",
    "            if absent_n == 0:\n",
    "                absent_trouve = True\n",
    "            absent_nombretest += 1\n",
    "    return absent_trouve, absent_chainetest\n"
   ]
  },
  {
   "cell_type": "markdown",
   "metadata": {},
   "source": [
    "<h4>3.2. Exemple</h4>"
   ]
  },
  {
   "cell_type": "code",
   "execution_count": 7,
   "metadata": {},
   "outputs": [
    {
     "data": {
      "text/plain": [
       "(True, '000')"
      ]
     },
     "execution_count": 7,
     "metadata": {},
     "output_type": "execute_result"
    }
   ],
   "source": [
    "chaine_absent(\"012345678900112233445566778899010203040506070809101112131415161718192021222324252627282930313233343536373839404142434445464748495051525354555657585960616263646566676869707172737475767778798081828384858687888990919293949596979899\")"
   ]
  },
  {
   "cell_type": "code",
   "execution_count": 8,
   "metadata": {},
   "outputs": [
    {
     "data": {
      "text/plain": [
       "(True, '5')"
      ]
     },
     "execution_count": 8,
     "metadata": {},
     "output_type": "execute_result"
    }
   ],
   "source": [
    "chaine_absent(\"012346789\")"
   ]
  },
  {
   "cell_type": "markdown",
   "metadata": {},
   "source": [
    "<h4>3.3. Principe</h4>\n",
    "<p>Elle teste toute les possibilités : 0, 1, 2, 3, ..., 01, 02, 03, ..., 10, 11, 12, ..., 20, 21, ..., 001, 002, ..., 010, 011, 012, ..., 100, 101, ...</p>\n",
    "<h4>3.4. Signature</h4>\n",
    "<pre>\n",
    "chaine_absent(absent_param_contenuctxt)\n",
    "    Renvoie une chaine qui n'apparait pas dans absent_param_contenuctxt et de longueur la plus faible possible\n",
    "    \n",
    "    absent_param_contenuctxt: Le texte dans lequel chercher la chaine qui n'apparait pas\n",
    "    return                  : La chaine qui n'apparait pas\n",
    "</pre>\n",
    "<hr style=\"border-top: 1px solid #e0dfdf;\" />\n",
    "<h3>4. Chaîne longue</h3>\n",
    "<p>Il nous manque une fonction très importante : la fonction <var>chaine_longue</var>. Elle trouve une chaîne qui apparaît le plus souvent possible et de longueur minimale donnée.</p>\n",
    "<h4>4.1. Code</h4>"
   ]
  },
  {
   "cell_type": "code",
   "execution_count": 9,
   "metadata": {},
   "outputs": [],
   "source": [
    "def chaine_longue(chainelongue_param_lmin, chainelongue_param_contenuctxt):\n",
    "    \"\"\"\n",
    "    Renvoie la chaine qui apparait le plus souvent dans le contenu du fichier ctxt, dont la longueur minimum est égale à\n",
    "    L_min, et dont la longueur maximum est égale à 32\n",
    "    :param chainelongue_param_lmin: La longueur minimumu (L_min)\n",
    "    :param chainelongue_param_contenuctxt: Le contenu du fichier ctxt\n",
    "    :return: la chaine qui apparait le plus souvent dans le contenu du fichier ctxt, dont la longueur minimum est égale\n",
    "    à L_min, et dont la longueur maximum est égale à 32\n",
    "    \"\"\"\n",
    "    # TODO Vider inutiles\n",
    "    chainelongue_trouve = False\n",
    "    chainelongue_nmaxi = 0\n",
    "    chainelongue_countmaxi = 0\n",
    "    chainelongue_l = chainelongue_param_lmin\n",
    "    chainelongue_chainetest = ''\n",
    "    chainelongue_test = 0\n",
    "    while (not chainelongue_trouve) and (chainelongue_test < 10**chainelongue_l):\n",
    "        chainelongue_chainetest = complete(chainelongue_test, chainelongue_l)\n",
    "        chainelongue_r = chainelongue_param_contenuctxt.count(chainelongue_chainetest)\n",
    "        if chainelongue_r > chainelongue_countmaxi:\n",
    "            chainelongue_nmaxi = chainelongue_chainetest\n",
    "            chainelongue_countmaxi = chainelongue_r\n",
    "        chainelongue_test += 1\n",
    "    chainelongue_gain1 = (chainelongue_countmaxi * len(chainelongue_nmaxi)) - \\\n",
    "                         (chainelongue_countmaxi * chainelongue_param_lmin)\n",
    "    chainelongue_gain2 = 0\n",
    "    chainelongue_lg = len(chainelongue_nmaxi) + 1\n",
    "    print(chainelongue_nmaxi)\n",
    "    chainelongue_ntest = ''\n",
    "    chainelongue_simplifie = True\n",
    "    return chainelongue_nmaxi"
   ]
  },
  {
   "cell_type": "markdown",
   "metadata": {},
   "source": [
    "<h4>4.2. Principe</h4>\n",
    "<p>Le principe est assez simple :\n",
    "    <ul>\n",
    "        <li>Tant que la longueur de la chaîne de test n'est pas trop grande</li>\n",
    "        <li>Générer une chaîne suivant le principe de chaîne absent</li>\n",
    "        <li>Si utiliser cette chaîne donne un gain, la renvoyer. Sinon, réasseyer avec une autre chaîne</li>\n",
    "    </ul>\n",
    "</p>\n",
    "<h4>4.3. Signature</h4>\n",
    "<pre>\n",
    "chaine_longue(chainelongue_param_lmin, chainelongue_param_contenuctxt)\n",
    "    Renvoie la chaine qui apparait le plus souvent dans le contenu du fichier ctxt, dont la longueur minimum est égale à\n",
    "    L_min, et dont la longueur maximum est égale à 32\n",
    "    chainelongue_param_lmin       : La longueur minimumu (L_min)\n",
    "    chainelongue_param_contenuctxt: Le contenu du fichier ctxt\n",
    "    return                        : la chaine qui apparait le plus souvent dans le contenu du fichier ctxt, dont la longueur minimum est égale\n",
    "    à L_min, et dont la longueur maximum est égale à 32\n",
    "</pre>\n",
    "<hr style=\"border-top: 1px solid #e0dfdf;\" />\n",
    "<h3>5. La fonction compress</h3>"
   ]
  },
  {
   "cell_type": "code",
   "execution_count": 10,
   "metadata": {},
   "outputs": [
    {
     "name": "stdout",
     "output_type": "stream",
     "text": [
      "a\n",
      "Compression...\n",
      " Génération des en-têtes...\n",
      " Terminé.\n",
      " Compression...\n",
      "  Itération.\n",
      "  Longueur avant : 260\n",
      "  Texte avant : 00720101010801080111003200870111011401080100003300100067010100990105003201010115011600320117011000320103011401110111011101110111011101110111011101110111011101110111011101110111011101110111011101150032011601010115011600320033001000790117011201150046004600460010\n",
      "0\n",
      "  Chaine longue : 0\n",
      "  Texte après : 02027202102102102802102802111020232020287021110211402102802102020202330202102020267021021020299021025020232021021021150211602023202117021102020232021023021140211102111021110211102111021110211102111021110211102111021110211102111021110211102111021110211102111021110211502023202116021021021150211602023202023302021020202790211702112021150202460202460202460202102\n",
      "  Itération.\n",
      "  Longueur avant : 260\n",
      "  Texte avant : 00720101010801080111003200870111011401080100003300100067010100990105003201010115011600320117011000320103011401110111011101110111011101110111011101110111011101110111011101110111011101110111011101150032011601010115011600320033001000790117011201150046004600460010\n",
      "1\n",
      "  Chaine longue : 1\n",
      "  Texte après : 007200200200208002080020202003200870020202002024002080020000330002000670020020099002050032002002002025002026003200202700202000320020300202400202020020202002020200202020020202002020200202020020202002020200202020020202002020200202020020202002020200202020020202002020200202020020202002020200202500320020260020020020250020260032003300020007900202700202200202500460046004600020\n",
      "  Itération.\n",
      "  Longueur avant : 260\n",
      "  Texte avant : 00720101010801080111003200870111011401080100003300100067010100990105003201010115011600320117011000320103011401110111011101110111011101110111011101110111011101110111011101110111011101110111011101150032011601010115011600320033001000790117011201150046004600460010\n",
      "01\n",
      "  Chaine longue : 01\n",
      "  Texte après : 00720202020802080211003200870211021402080200003300200067020200990205003202020215021600320217021000320203021402110211021102110211021102110211021102110211021102110211021102110211021102110211021102150032021602020215021600320033002000790217021202150046004600460020\n",
      "  Itération.\n",
      "  Longueur avant : 260\n",
      "  Texte avant : 00720101010801080111003200870111011401080100003300100067010100990105003201010115011600320117011000320103011401110111011101110111011101110111011101110111011101110111011101110111011101110111011101150032011601010115011600320033001000790117011201150046004600460010\n",
      "011\n",
      "  Chaine longue : 011\n",
      "  Texte après : 00720101010801080210032008702102401080100003300100067010100990105003201010250260032027020003201030240210210210210210210210210210210210210210210210210210210210210210250032026010102502600320033001000790270220250046004600460010\n",
      "  Longueur après : 224\n",
      " Terminé.\n",
      "HEADERS : 00002023011\n",
      "BODY : 0000202301100720101010801080210032008702102401080100003300100067010100990105003201010250260032027020003201030240210210210210210210210210210210210210210210210210210210210210210250032026010102502600320033001000790270220250046004600460010\n",
      "CHAINE LONGUE : 011\n",
      "CHAINE ABSENTE : (True, '02')\n",
      "LONGUEUR FINALE : 235\n",
      "Compression...\n",
      " Génération des en-têtes...\n",
      " Terminé.\n",
      " Compression...\n",
      "  Itération.\n",
      "  Longueur avant : 235\n",
      "  Texte avant : 0000202301100720101010801080210032008702102401080100003300100067010100990105003201010250260032027020003201030240210210210210210210210210210210210210210210210210210210210210210250032026010102502600320033001000790270220250046004600460010\n",
      "0\n",
      "  Chaine longue : 0\n",
      "  Texte après : 1212121221223121112127212112112112812112812211212321212871221122412112812112121212331212112121267121121121299121125121232121121122512261212321227122121212321211231224122112211221122112211221122112211221122112211221122112211221122112211221122112211221122512123212261211211225122612123212123312121121212791227122212251212461212461212461212112\n",
      "  Itération.\n",
      "  Longueur avant : 235\n",
      "  Texte avant : 0000202301100720101010801080210032008702102401080100003300100067010100990105003201010250260032027020003201030240210210210210210210210210210210210210210210210210210210210210210250032026010102502600320033001000790270220250046004600460010\n",
      "0\n",
      "  Chaine longue : 0\n",
      "  Texte après : 1212121221223121112127212112112112812112812211212321212871221122412112812112121212331212112121267121121121299121125121232121121122512261212321227122121212321211231224122112211221122112211221122112211221122112211221122112211221122112211221122112211221122512123212261211211225122612123212123312121121212791227122212251212461212461212461212112\n",
      "  Itération.\n",
      "  Longueur avant : 235\n",
      "  Texte avant : 0000202301100720101010801080210032008702102401080100003300100067010100990105003201010250260032027020003201030240210210210210210210210210210210210210210210210210210210210210210250032026010102502600320033001000790270220250046004600460010\n",
      "10\n",
      "  Chaine longue : 10\n",
      "  Texte après : 0000202301120720121212801280212032008702122401280120003300120067012120990125003201212250260032027020003201230240212212212212212212212212212212212212212212212212212212212212212250032026012122502600320033001200790270220250046004600460012\n",
      "  Itération.\n",
      "  Longueur avant : 235\n",
      "  Texte avant : 0000202301100720101010801080210032008702102401080100003300100067010100990105003201010250260032027020003201030240210210210210210210210210210210210210210210210210210210210210210250032026010102502600320033001000790270220250046004600460010\n",
      "102\n",
      "  Chaine longue : 102\n",
      "  Texte après : 0000202301100720101010801080210032008702124010801000033001000670101009901050032010125026003202702000320103024021212121212121212121212121212121212121212125003202601012502600320033001000790270220250046004600460010\n",
      "  Longueur après : 211\n",
      " Terminé.\n",
      "HEADERS : 00012123102\n",
      "BODY : 000121231020000202301100720101010801080210032008702124010801000033001000670101009901050032010125026003202702000320103024021212121212121212121212121212121212121212125003202601012502600320033001000790270220250046004600460010\n",
      "CHAINE LONGUE : 102\n",
      "CHAINE ABSENTE : (True, '12')\n",
      "LONGUEUR FINALE : 222\n",
      "Compression...\n",
      " Génération des en-têtes...\n",
      " Terminé.\n",
      " Compression...\n",
      "  Itération.\n",
      "  Longueur avant : 222\n",
      "  Texte avant : 000121231020000202301100720101010801080210032008702124010801000033001000670101009901050032010125026003202702000320103024021212121212121212121212121212121212121212125003202601012502600320033001000790270220250046004600460010\n",
      "0\n",
      "  Chaine longue : 0\n",
      "  Texte après : 1313131212311321313131321323131113137213113113113813113813211313321313871321241311381311313131333131311313136713113113139913113513133213113125132613133213271321313133213113313241321212121212121212121212121212121212121212125131332132613113125132613133213133313131131313791327132213251313461313461313461313113\n",
      "  Itération.\n",
      "  Longueur avant : 222\n",
      "  Texte avant : 000121231020000202301100720101010801080210032008702124010801000033001000670101009901050032010125026003202702000320103024021212121212121212121212121212121212121212125003202601012502600320033001000790270220250046004600460010\n",
      "0\n",
      "  Chaine longue : 0\n",
      "  Texte après : 1313131212311321313131321323131113137213113113113813113813211313321313871321241311381311313131333131311313136713113113139913113513133213113125132613133213271321313133213113313241321212121212121212121212121212121212121212125131332132613113125132613133213133313131131313791327132213251313461313461313461313113\n",
      "  Itération.\n",
      "  Longueur avant : 222\n",
      "  Texte avant : 000121231020000202301100720101010801080210032008702124010801000033001000670101009901050032010125026003202702000320103024021212121212121212121212121212121212121212125003202601012502600320033001000790270220250046004600460010\n",
      "12\n",
      "  Chaine longue : 12\n",
      "  Texte après : 000131331020000202301100720101010801080210032008702134010801000033001000670101009901050032010135026003202702000320103024021313131313131313131313131313131313131313135003202601013502600320033001000790270220250046004600460010\n",
      "  Itération.\n",
      "  Longueur avant : 222\n",
      "  Texte avant : 000121231020000202301100720101010801080210032008702124010801000033001000670101009901050032010125026003202702000320103024021212121212121212121212121212121212121212125003202601012502600320033001000790270220250046004600460010\n",
      "010\n",
      "  Chaine longue : 010\n",
      "  Texte après : 00012123102000020230110072131138138021003200870212413813000330130067131009913500321312502600320270200032133024021212121212121212121212121212121212121212125003202613125026003200330130079027022025004600460046013\n",
      "  Longueur après : 209\n",
      " Terminé.\n",
      "HEADERS : 00022133010\n",
      "BODY : 0002213301000012123102000020230110072131138138021003200870212413813000330130067131009913500321312502600320270200032133024021212121212121212121212121212121212121212125003202613125026003200330130079027022025004600460046013\n",
      "CHAINE LONGUE : 010\n",
      "CHAINE ABSENTE : (True, '13')\n",
      "LONGUEUR FINALE : 220\n",
      "Compression...\n",
      " Génération des en-têtes...\n",
      " Terminé.\n",
      " Compression...\n",
      "  Itération.\n",
      "  Longueur avant : 220\n",
      "  Texte avant : 0002213301000012123102000020230110072131138138021003200870212413813000330130067131009913500321312502600320270200032133024021212121212121212121212121212121212121212125003202613125026003200330130079027022025004600460046013\n",
      "0\n",
      "  Chaine longue : 0\n",
      "  Texte après : 05050522133051050505051212310520505050520523051105057213113813805210505320505870521241381305050533051305056713105059913505053213125052605053205270520505053213305240521212121212121212121212121212121212121212125050532052613125052605053205053305130505790527052205250505460505460505460513\n",
      "  Itération.\n",
      "  Longueur avant : 220\n",
      "  Texte avant : 0002213301000012123102000020230110072131138138021003200870212413813000330130067131009913500321312502600320270200032133024021212121212121212121212121212121212121212125003202613125026003200330130079027022025004600460046013\n",
      "0\n",
      "  Chaine longue : 0\n",
      "  Texte après : 05050522133051050505051212310520505050520523051105057213113813805210505320505870521241381305050533051305056713105059913505053213125052605053205270520505053213305240521212121212121212121212121212121212121212125050532052613125052605053205053305130505790527052205250505460505460505460513\n",
      "  Itération.\n",
      "  Longueur avant : 220\n",
      "  Texte avant : 0002213301000012123102000020230110072131138138021003200870212413813000330130067131009913500321312502600320270200032133024021212121212121212121212121212121212121212125003202613125026003200330130079027022025004600460046013\n",
      "21\n",
      "  Chaine longue : 21\n",
      "  Texte après : 0002053301000010523102000020230110070531138138005003200870052413813000330130067131009913500305312502600320270200030533024005050505050505050505050505050505050505050525003202613125026003200330130079027022025004600460046013\n",
      "  Itération.\n",
      "  Longueur avant : 220\n",
      "  Texte avant : 0002213301000012123102000020230110072131138138021003200870212413813000330130067131009913500321312502600320270200032133024021212121212121212121212121212121212121212125003202613125026003200330130079027022025004600460046013\n",
      "212\n",
      "  Chaine longue : 212\n",
      "  Texte après : 000221330100001053102000020230110072131138138021003200870054138130003301300671310099135003213125026003202702000321330240051051051051051051051051051051055003202613125026003200330130079027022025004600460046013\n",
      "  Longueur après : 207\n",
      " Terminé.\n",
      "HEADERS : 00032053212\n",
      "BODY : 00032053212000221330100001053102000020230110072131138138021003200870054138130003301300671310099135003213125026003202702000321330240051051051051051051051051051051055003202613125026003200330130079027022025004600460046013\n",
      "CHAINE LONGUE : 212\n",
      "CHAINE ABSENTE : (True, '05')\n",
      "LONGUEUR FINALE : 218\n",
      "Compression...\n",
      " Génération des en-têtes...\n",
      " Terminé.\n",
      " Compression...\n",
      "  Itération.\n",
      "  Longueur avant : 218\n",
      "  Texte avant : 00032053212000221330100001053102000020230110072131138138021003200870054138130003301300671310099135003213125026003202702000321330240051051051051051051051051051051055003202613125026003200330130079027022025004600460046013\n",
      "0\n",
      "  Chaine longue : 0\n",
      "  Texte après : 14141432145321214141422133141141414141145311421414141421423141114147213113813814211414321414871414541381314141433141314146713114149913514143213125142614143214271421414143213314241414511451145114511451145114511451145114511455141432142613125142614143214143314131414791427142214251414461414461414461413\n",
      "  Itération.\n",
      "  Longueur avant : 218\n",
      "  Texte avant : 00032053212000221330100001053102000020230110072131138138021003200870054138130003301300671310099135003213125026003202702000321330240051051051051051051051051051051055003202613125026003200330130079027022025004600460046013\n",
      "0\n",
      "  Chaine longue : 0\n",
      "  Texte après : 14141432145321214141422133141141414141145311421414141421423141114147213113813814211414321414871414541381314141433141314146713114149913514143213125142614143214271421414143213314241414511451145114511451145114511451145114511455141432142613125142614143214143314131414791427142214251414461414461414461413\n",
      "  Itération.\n",
      "  Longueur avant : 218\n",
      "  Texte avant : 00032053212000221330100001053102000020230110072131138138021003200870054138130003301300671310099135003213125026003202702000321330240051051051051051051051051051051055003202613125026003200330130079027022025004600460046013\n",
      "00\n",
      "  Chaine longue : 00\n",
      "  Texte après : 14032053212140221330114141053102141420230111472131138138021143214871454138131403301314671311499135143213125026143202702140321330241451051051051051051051051051051055143202613125026143214330131479027022025144614461446013\n",
      "  Itération.\n",
      "  Longueur avant : 218\n",
      "  Texte avant : 00032053212000221330100001053102000020230110072131138138021003200870054138130003301300671310099135003213125026003202702000321330240051051051051051051051051051051055003202613125026003200330130079027022025004600460046013\n",
      "105\n",
      "  Chaine longue : 105\n",
      "  Texte après : 000320532120002213301000014310200002023011007213113813802100320087005413813000330130067131009913500321312502600320270200032133024005141414141414141414145003202613125026003200330130079027022025004600460046013\n",
      "  Longueur après : 207\n",
      " Terminé.\n",
      "HEADERS : 00042143105\n",
      "BODY : 00042143105000320532120002213301000014310200002023011007213113813802100320087005413813000330130067131009913500321312502600320270200032133024005141414141414141414145003202613125026003200330130079027022025004600460046013\n",
      "CHAINE LONGUE : 105\n",
      "CHAINE ABSENTE : (True, '14')\n",
      "LONGUEUR FINALE : 218\n",
      "Compression...\n",
      " Génération des en-têtes...\n",
      " Terminé.\n",
      " Compression...\n",
      "  Itération.\n",
      "  Longueur avant : 218\n",
      "  Texte avant : 00042143105000320532120002213301000014310200002023011007213113813802100320087005413813000330130067131009913500321312502600320270200032133024005141414141414141414145003202613125026003200330130079027022025004600460046013\n",
      "0\n",
      "  Chaine longue : 0\n",
      "  Texte après : 1515154214311551515153215532121515152213315115151515143115215151515215231511151572131138138152115153215158715155413813151515331513151567131151599135151532131251526151532152715215151532133152415155141414141414141414145151532152613125152615153215153315131515791527152215251515461515461515461513\n",
      "  Itération.\n",
      "  Longueur avant : 218\n",
      "  Texte avant : 00042143105000320532120002213301000014310200002023011007213113813802100320087005413813000330130067131009913500321312502600320270200032133024005141414141414141414145003202613125026003200330130079027022025004600460046013\n",
      "0\n",
      "  Chaine longue : 0\n",
      "  Texte après : 1515154214311551515153215532121515152213315115151515143115215151515215231511151572131138138152115153215158715155413813151515331513151567131151599135151532131251526151532152715215151532133152415155141414141414141414145151532152613125152615153215153315131515791527152215251515461515461515461513\n",
      "  Itération.\n",
      "  Longueur avant : 218\n",
      "  Texte avant : 00042143105000320532120002213301000014310200002023011007213113813802100320087005413813000330130067131009913500321312502600320270200032133024005141414141414141414145003202613125026003200330130079027022025004600460046013\n",
      "00\n",
      "  Chaine longue : 00\n",
      "  Texte après : 15042143105150320532121502213301151514310215152023011157213113813802115321587155413813150330131567131159913515321312502615320270215032133024155141414141414141414145153202613125026153215330131579027022025154615461546013\n",
      "  Itération.\n",
      "  Longueur avant : 218\n",
      "  Texte avant : 00042143105000320532120002213301000014310200002023011007213113813802100320087005413813000330130067131009913500321312502600320270200032133024005141414141414141414145003202613125026003200330130079027022025004600460046013\n",
      "003\n",
      "  Chaine longue : 003\n",
      "  Texte après : 00042143105015205321200022133010000143102000020230110072131138138021152008700541381301530130067131009913515213125026152027020152133024005141414141414141414145152026131250261521530130079027022025004600460046013\n",
      "  Longueur après : 209\n",
      " Terminé.\n",
      "HEADERS : 00052153003\n",
      "BODY : 00042143105000320532120002213301000014310200002023011007213113813802100320087005413813000330130067131009913500321312502600320270200032133024005141414141414141414145003202613125026003200330130079027022025004600460046013\n",
      "CHAINE LONGUE : 003\n",
      "CHAINE ABSENTE : (True, '15')\n",
      "LONGUEUR FINALE : 218\n",
      "TERMINE\n"
     ]
    }
   ],
   "source": [
    "# -*- coding: utf-8 -*-\n",
    "\"\"\"\n",
    "Compression du tome 1 des misérables en chiffres\n",
    "\"\"\"\n",
    "nombre_compressions = 0\n",
    "\n",
    "\n",
    "\n",
    "\n",
    "def chaine_longue(chainelongue_param_lmin, chainelongue_param_contenuctxt):\n",
    "    \"\"\"\n",
    "    Renvoie la chaine qui apparait le plus souvent dans le contenu du fichier ctxt, dont la longueur minimum est égale à\n",
    "    L_min, et dont la longueur maximum est égale à 32\n",
    "    :param chainelongue_param_lmin: La longueur minimumu (L_min)\n",
    "    :param chainelongue_param_contenuctxt: Le contenu du fichier ctxt\n",
    "    :return: la chaine qui apparait le plus souvent dans le contenu du fichier ctxt, dont la longueur minimum est égale\n",
    "    à L_min, et dont la longueur maximum est égale à 32\n",
    "    \"\"\"\n",
    "    # TODO Vider inutiles\n",
    "    chainelongue_trouve = False\n",
    "    chainelongue_nmaxi = 0\n",
    "    chainelongue_countmaxi = 0\n",
    "    chainelongue_l = chainelongue_param_lmin\n",
    "    chainelongue_chainetest = ''\n",
    "    chainelongue_test = 0\n",
    "    while (not chainelongue_trouve) and (chainelongue_test < 10**chainelongue_l):\n",
    "        chainelongue_chainetest = complete(chainelongue_test, chainelongue_l)\n",
    "        chainelongue_r = chainelongue_param_contenuctxt.count(chainelongue_chainetest)\n",
    "        if chainelongue_r > chainelongue_countmaxi:\n",
    "            chainelongue_nmaxi = chainelongue_chainetest\n",
    "            chainelongue_countmaxi = chainelongue_r\n",
    "        chainelongue_test += 1\n",
    "    chainelongue_gain1 = (chainelongue_countmaxi * len(chainelongue_nmaxi)) - \\\n",
    "                         (chainelongue_countmaxi * chainelongue_param_lmin)\n",
    "    chainelongue_gain2 = 0\n",
    "    chainelongue_lg = len(chainelongue_nmaxi) + 1\n",
    "    print(chainelongue_nmaxi)\n",
    "    chainelongue_ntest = ''\n",
    "    chainelongue_simplifie = True\n",
    "    return chainelongue_nmaxi\n",
    "\n",
    "def compress():\n",
    "    global ctxt, nombre_compressions\n",
    "    \"\"\"\n",
    "    La fonction qui écrit le fichier compressé\n",
    "    \"\"\"\n",
    "    psize = len(ctxt)\n",
    "    pctxt = ctxt\n",
    "    csize = 0\n",
    "    while (True):\n",
    "        print(\"Compression...\")\n",
    "        print(\" Génération des en-têtes...\")\n",
    "        headers = str()\n",
    "        headers += complete(nombre_compressions, 4)\n",
    "        ca = chaine_absent(ctxt)\n",
    "        #print(\"  Chaîne absente :\", ca)\n",
    "        headers += str(len(ca[1]))\n",
    "        headers += ca[1]\n",
    "        print(\" Terminé.\")\n",
    "        print(\" Compression...\")\n",
    "        # Génération de la chaîne longue :\n",
    "        for a in range(32):\n",
    "            print(\"  Itération.\")\n",
    "            plen = len(ctxt)\n",
    "            print(\"  Longueur avant :\", plen)\n",
    "            print(\"  Texte avant :\", ctxt)\n",
    "            cl = chaine_longue(a, ctxt)\n",
    "            print(\"  Chaine longue :\", cl)\n",
    "            ctxt = ctxt.replace(cl, ca[1])\n",
    "            print(\"  Texte après :\", ctxt)\n",
    "            if len(ctxt) < plen :\n",
    "                print(\"  Longueur après :\", len(ctxt))\n",
    "                print(\" Terminé.\")\n",
    "                break\n",
    "            else:\n",
    "                ctxt = ctxt.replace(ca[1], cl)\n",
    "        headers += str(len(cl))\n",
    "        headers += cl\n",
    "        ctxt = headers + ctxt\n",
    "        csize = len(ctxt)\n",
    "        if (csize > psize):\n",
    "            ctxt = pctxt\n",
    "            print(\"HEADERS :\", headers)\n",
    "            print(\"BODY :\", ctxt)\n",
    "            print(\"CHAINE LONGUE :\", cl)\n",
    "            print(\"CHAINE ABSENTE :\", ca)\n",
    "            print(\"LONGUEUR FINALE :\", len(ctxt))\n",
    "            print(\"TERMINE\")\n",
    "            with open(\"compresse.cmprss\", 'w') as f:\n",
    "                f.write(ctxt)\n",
    "            break\n",
    "        nombre_compressions+=1\n",
    "    # headers += len()\n",
    "        print(\"HEADERS :\", headers)\n",
    "        print(\"BODY :\", ctxt)\n",
    "        print(\"CHAINE LONGUE :\", cl)\n",
    "        print(\"CHAINE ABSENTE :\", ca)\n",
    "        print(\"LONGUEUR FINALE :\", csize)\n",
    "        pctxt = ctxt\n",
    "        psize = len(ctxt)\n",
    "\n",
    "\n",
    "# TODO chaine_longue\n",
    "with open(\"miserables-tome1-Copy2.txt\") as file:\n",
    "    text = file.read()\n",
    "\n",
    "ctxt = \"\"\n",
    "ctxtfile = open(\"miserables_non_compresse.ctxt\", 'w')\n",
    "for i in range(0, len(text)):\n",
    "    tplus = str(ord(text[i]))\n",
    "    for j in range(0, (4-len(tplus))):\n",
    "        tplus = \"0\" + tplus\n",
    "    ctxt += tplus\n",
    "print(\"a\")\n",
    "ctxtfile.write(ctxt)\n",
    "compress()"
   ]
  },
  {
   "cell_type": "code",
   "execution_count": 11,
   "metadata": {},
   "outputs": [
    {
     "data": {
      "text/plain": [
       "161"
      ]
     },
     "execution_count": 11,
     "metadata": {},
     "output_type": "execute_result"
    }
   ],
   "source": [
    "len(\"00062183029000521330001342073026133204308613220239321311920099162019726660404111887611614604993318746607156176056150717619032612666170712604176150704116106031833\")"
   ]
  },
  {
   "cell_type": "code",
   "execution_count": 12,
   "metadata": {},
   "outputs": [
    {
     "name": "stdout",
     "output_type": "stream",
     "text": [
      "Compression...\n",
      " Génération des en-têtes...\n",
      " Terminé.\n",
      " Compression...\n",
      "  Itération.\n",
      "  Longueur avant : 129\n",
      "  Texte avant : 000119200991620197266608608611932987611614608699339329746693261561760561593261761903261266617932612608617615932608611610603932933\n",
      "0\n",
      "  Chaine longue : 0\n",
      "  Texte après : 020202119202029916202197266602860286119329876116146028699339329746693261561760256159326176190232612666179326126028617615932602861161026023932933\n",
      "  Itération.\n",
      "  Longueur avant : 129\n",
      "  Texte avant : 000119200991620197266608608611932987611614608699339329746693261561760561593261761903261266617932612608617615932608611610603932933\n",
      "6\n",
      "  Chaine longue : 6\n",
      "  Texte après : 000119200991022019720202020802080211932987021102140208029933932974020293202150217020502159320217021903202120202021793202120208021702159320208021102100203932933\n",
      "  Itération.\n",
      "  Longueur avant : 129\n",
      "  Texte avant : 000119200991620197266608608611932987611614608699339329746693261561760561593261761903261266617932612608617615932608611610603932933\n",
      "61\n",
      "  Chaine longue : 61\n",
      "  Texte après : 000119200991620197266608608021932987021024608699339329746693202502760502593202702903202266027932022608027025932608021020603932933\n",
      "  Itération.\n",
      "  Longueur avant : 129\n",
      "  Texte avant : 000119200991620197266608608611932987611614608699339329746693261561760561593261761903261266617932612608617615932608611610603932933\n",
      "932\n",
      "  Chaine longue : 932\n",
      "  Texte après : 00011920099162019726660860861102987611614608699330297466026156176056150261761903261266617026126086176150260861161060302933\n",
      "  Longueur après : 122\n",
      " Terminé.\n",
      "HEADERS : 00052023932\n",
      "BODY : 000119200991620197266608608611932987611614608699339329746693261561760561593261761903261266617932612608617615932608611610603932933\n",
      "CHAINE LONGUE : 932\n",
      "CHAINE ABSENTE : (True, '02')\n",
      "LONGUEUR FINALE : 129\n",
      "TERMINE\n"
     ]
    }
   ],
   "source": [
    "ctxt = \"000119200991620197266608608611932987611614608699339329746693261561760561593261761903261266617932612608617615932608611610603932933\"\n",
    "compress()"
   ]
  },
  {
   "cell_type": "code",
   "execution_count": 14,
   "metadata": {},
   "outputs": [
    {
     "ename": "IndentationError",
     "evalue": "unindent does not match any outer indentation level (<tokenize>, line 5)",
     "output_type": "error",
     "traceback": [
      "\u001b[1;36m  File \u001b[1;32m\"<tokenize>\"\u001b[1;36m, line \u001b[1;32m5\u001b[0m\n\u001b[1;33m    <h3>Le code</h3>\u001b[0m\n\u001b[1;37m    ^\u001b[0m\n\u001b[1;31mIndentationError\u001b[0m\u001b[1;31m:\u001b[0m unindent does not match any outer indentation level\n"
     ]
    }
   ],
   "source": [
    "h4>Fichiers</h4>\n",
    "    <p>Le programme prends le texte (ici, le tome 1 des Misérables) : c'est le fichier <code>miserables-tome1.txt</code></p>\n",
    "    <p>Il enregistre les données précompressées, sous forme de nombres : c'est le fichier <code>miserables_non_compresse.ctxt</code></p>\n",
    "    <p>Puis il compresse le tout : c'est le fichier <code>miserables_compresse.cmprss</code></p>\n",
    "   <h3>Le code</h3>\n",
    "    <p>D'abord une petite introduction :</p>"
   ]
  }
 ],
 "metadata": {
  "celltoolbar": "Aucun(e)",
  "kernelspec": {
   "display_name": "Python 3",
   "language": "python",
   "name": "python3"
  },
  "language_info": {
   "codemirror_mode": {
    "name": "ipython",
    "version": 3
   },
   "file_extension": ".py",
   "mimetype": "text/x-python",
   "name": "python",
   "nbconvert_exporter": "python",
   "pygments_lexer": "ipython3",
   "version": "3.9.0"
  }
 },
 "nbformat": 4,
 "nbformat_minor": 4
}
